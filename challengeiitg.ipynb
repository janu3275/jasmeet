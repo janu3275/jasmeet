{
 "cells": [
  {
   "cell_type": "code",
   "execution_count": 3,
   "metadata": {},
   "outputs": [],
   "source": [
    "import pandas as pd\n",
    "import numpy as np\n",
    "import matplotlib.pyplot as plt\n",
    "import seaborn as sns\n",
    "from sklearn.feature_extraction.text import CountVectorizer\n",
    "from sklearn.naive_bayes import MultinomialNB\n",
    "from pandas import ExcelWriter"
   ]
  },
  {
   "cell_type": "code",
   "execution_count": 4,
   "metadata": {},
   "outputs": [],
   "source": [
    "df = pd.read_csv(r'C:\\Users\\janu\\Downloads\\dataset\\train_file.csv')"
   ]
  },
  {
   "cell_type": "code",
   "execution_count": 5,
   "metadata": {},
   "outputs": [
    {
     "name": "stdout",
     "output_type": "stream",
     "text": [
      "   ID UsageClass CheckoutType  CheckoutYear  CheckoutMonth  Checkouts  \\\n",
      "0   1   Physical      Horizon          2005              4          1   \n",
      "1   2   Physical      Horizon          2005              4          1   \n",
      "2   3   Physical      Horizon          2005              4          3   \n",
      "3   4   Physical      Horizon          2005              4          1   \n",
      "4   5   Physical      Horizon          2005              4          1   \n",
      "\n",
      "                                               Title               Creator  \\\n",
      "0                                         Tidal wave                   NaN   \n",
      "1                     London holiday / Richard Peck.  Peck, Richard, 1934-   \n",
      "2  Cinco de Mayo : celebrating Hispanic pride / C...      Gnojewski, Carol   \n",
      "3                                          Annapolis                   NaN   \n",
      "4                                  As a man thinketh                   NaN   \n",
      "\n",
      "                                            Subjects           Publisher  \\\n",
      "0             Tsunamis, Tsunamis Juvenile literature                 NaN   \n",
      "1                                                NaN             Viking,   \n",
      "2  Cinco de Mayo Mexican holiday History Juvenile...  Enslow Publishers,   \n",
      "3  War stories, Historical fiction, Domestic fict...                 NaN   \n",
      "4                               Thought and thinking                 NaN   \n",
      "\n",
      "  PublicationYear MaterialType  \n",
      "0             NaN         BOOK  \n",
      "1           1998.         BOOK  \n",
      "2          c2002.         BOOK  \n",
      "3             NaN         BOOK  \n",
      "4             NaN         BOOK  \n"
     ]
    }
   ],
   "source": [
    "print(df.head())"
   ]
  },
  {
   "cell_type": "code",
   "execution_count": 6,
   "metadata": {},
   "outputs": [],
   "source": [
    "material = {'BOOK':1,'SOUNDDISC':2,'SOUNDCASS':3,'VIDEOCASS':4,'VIDEODISC':5,'MUSIC':6,'CR':7,'MIXED':8}\n",
    "df['MaterialType'] = [material[i] for i in df.MaterialType]"
   ]
  },
  {
   "cell_type": "code",
   "execution_count": 13,
   "metadata": {},
   "outputs": [
    {
     "name": "stdout",
     "output_type": "stream",
     "text": [
      "   ID UsageClass CheckoutType  CheckoutYear  CheckoutMonth  Checkouts  \\\n",
      "0   1   Physical      Horizon          2005              4          1   \n",
      "1   2   Physical      Horizon          2005              4          1   \n",
      "2   3   Physical      Horizon          2005              4          3   \n",
      "3   4   Physical      Horizon          2005              4          1   \n",
      "4   5   Physical      Horizon          2005              4          1   \n",
      "5   6   Physical      Horizon          2005              4          4   \n",
      "6   7   Physical      Horizon          2005              4          1   \n",
      "7   8   Physical      Horizon          2005              4          1   \n",
      "8   9   Physical      Horizon          2005              4          4   \n",
      "9  10   Physical      Horizon          2005              4          1   \n",
      "\n",
      "                                               Title               Creator  \\\n",
      "0                                         Tidal wave                   NaN   \n",
      "1                     London holiday / Richard Peck.  Peck, Richard, 1934-   \n",
      "2  Cinco de Mayo : celebrating Hispanic pride / C...      Gnojewski, Carol   \n",
      "3                                          Annapolis                   NaN   \n",
      "4                                  As a man thinketh                   NaN   \n",
      "5  Minnie and Moo go dancing / [written and illus...          Cazet, Denys   \n",
      "6                              cat who robbed a bank                   NaN   \n",
      "7       Irwin guide to using the Wall Street journal                   NaN   \n",
      "8                                       Oracle night                   NaN   \n",
      "9                                12 haunted episodes                   NaN   \n",
      "\n",
      "                                            Subjects           Publisher  \\\n",
      "0             Tsunamis, Tsunamis Juvenile literature                 NaN   \n",
      "1                                                xxx             Viking,   \n",
      "2  Cinco de Mayo Mexican holiday History Juvenile...  Enslow Publishers,   \n",
      "3  War stories, Historical fiction, Domestic fict...                 NaN   \n",
      "4                               Thought and thinking                 NaN   \n",
      "5  Cows Juvenile fiction, Parties Fiction, Farm l...            DK Pub.,   \n",
      "6  Mystery fiction, Qwilleran Jim Fictitious char...                 NaN   \n",
      "7  Wall Street journal, Investments United States...                 NaN   \n",
      "8  Novelists American New York State New York Fic...                 NaN   \n",
      "9                               Rock music 1991 2000                 NaN   \n",
      "\n",
      "  PublicationYear  MaterialType  \n",
      "0             NaN             1  \n",
      "1           1998.             1  \n",
      "2          c2002.             1  \n",
      "3             NaN             1  \n",
      "4             NaN             1  \n",
      "5          c1998.             1  \n",
      "6             NaN             1  \n",
      "7             NaN             1  \n",
      "8             NaN             1  \n",
      "9             NaN             2  \n"
     ]
    }
   ],
   "source": [
    "df['Subjects'].fillna(0,inplace = True)\n",
    "df['Subjects'].replace(0,'xxx',inplace = True)\n",
    "\n",
    "print(df.head(10))"
   ]
  },
  {
   "cell_type": "code",
   "execution_count": 14,
   "metadata": {},
   "outputs": [
    {
     "name": "stdout",
     "output_type": "stream",
     "text": [
      "0.8676270811613433\n"
     ]
    }
   ],
   "source": [
    "tf = pd.read_csv(r'C:\\Users\\janu\\Downloads\\dataset\\test_file.csv')\n",
    "tf['Subjects'].fillna('xxx',inplace=True)\n",
    "counter = CountVectorizer()\n",
    "counter.fit(df['Subjects'])\n",
    "train_counts = counter.transform(df['Subjects'])\n",
    "test_counts = counter.transform(tf['Subjects'])\n",
    "classifier = MultinomialNB()\n",
    "classifier.fit( train_counts,df['MaterialType'] )\n",
    "print(classifier.score(train_counts,df['MaterialType']))\n",
    "test_material_type = classifier.predict(test_counts)\n",
    "tf['MaterialType'] = test_material_type"
   ]
  },
  {
   "cell_type": "code",
   "execution_count": 15,
   "metadata": {},
   "outputs": [
    {
     "name": "stdout",
     "output_type": "stream",
     "text": [
      "      ID UsageClass CheckoutType  CheckoutYear  CheckoutMonth  Checkouts  \\\n",
      "0  31654   Physical      Horizon          2005              4          1   \n",
      "1  31655   Physical      Horizon          2005              4          2   \n",
      "2  31656   Physical      Horizon          2005              4          2   \n",
      "3  31657   Physical      Horizon          2005              4          2   \n",
      "4  31658   Physical      Horizon          2005              4          2   \n",
      "5  31659   Physical      Horizon          2005              4          1   \n",
      "6  31660   Physical      Horizon          2005              4          2   \n",
      "7  31661   Physical      Horizon          2005              4          1   \n",
      "8  31662   Physical      Horizon          2005              4          1   \n",
      "9  31663   Physical      Horizon          2005              4          1   \n",
      "\n",
      "                                               Title  \\\n",
      "0                           Footprints at the window   \n",
      "1                    Seven brides for seven brothers   \n",
      "2  History [sound recording] / Loudon Wainwright ...   \n",
      "3                 Doing big business on the internet   \n",
      "4                       Lets learn how to dance shag   \n",
      "5                                      Cypress Point   \n",
      "6                    Better living through chemistry   \n",
      "7                                  Political suicide   \n",
      "8                             DHEA a practical guide   \n",
      "9  Những kẻ đính hôn / Alexanđrô Manzôni (Italia)...   \n",
      "\n",
      "                          Creator  \\\n",
      "0                             NaN   \n",
      "1                             NaN   \n",
      "2  Wainwright, Loudon, III, 1946-   \n",
      "3                             NaN   \n",
      "4                             NaN   \n",
      "5                             NaN   \n",
      "6                             NaN   \n",
      "7                             NaN   \n",
      "8                             NaN   \n",
      "9  Manzoni, Alessandro, 1785-1873   \n",
      "\n",
      "                                            Subjects  \\\n",
      "0            England Fiction, Space and time Fiction   \n",
      "1  Video recordings for the hearing impaired, Mus...   \n",
      "2                            Popular music 1991 2000   \n",
      "3  Internet, Internet advertising, Information ne...   \n",
      "4                       Shag Dance, Ballroom dancing   \n",
      "5  Love stories, Healers Fiction, Brain damage Fi...   \n",
      "6               House music, Popular music 1991 2000   \n",
      "7                                   Large type books   \n",
      "8  Dehydroepiandrosterone Popular works, Dehydroe...   \n",
      "9                                                xxx   \n",
      "\n",
      "                   Publisher PublicationYear  MaterialType  \n",
      "0                        NaN             NaN             1  \n",
      "1                        NaN             NaN             4  \n",
      "2                  Charisma,          p1992.             2  \n",
      "3                        NaN             NaN             1  \n",
      "4                        NaN             NaN             4  \n",
      "5                        NaN             NaN             1  \n",
      "6                        NaN             NaN             2  \n",
      "7                        NaN             NaN             1  \n",
      "8                        NaN             NaN             1  \n",
      "9  Nhà xuất bản Hội nhà văn,          [2003]             1  \n"
     ]
    }
   ],
   "source": [
    "print(tf.head(10))\n"
   ]
  },
  {
   "cell_type": "code",
   "execution_count": 16,
   "metadata": {},
   "outputs": [],
   "source": [
    "xaterial = {1:'BOOK',2:'SOUNDDISC',3:'SOUNDCASS',4:'VIDEOCASS',5:'VIDEODISC',6:'MUSIC',7:'CR',8:'MIXED'}\n",
    "tf['MaterialType'] = [xaterial[i] for i in tf.MaterialType]"
   ]
  },
  {
   "cell_type": "code",
   "execution_count": 17,
   "metadata": {},
   "outputs": [
    {
     "name": "stdout",
     "output_type": "stream",
     "text": [
      "      ID UsageClass CheckoutType  CheckoutYear  CheckoutMonth  Checkouts  \\\n",
      "0  31654   Physical      Horizon          2005              4          1   \n",
      "1  31655   Physical      Horizon          2005              4          2   \n",
      "2  31656   Physical      Horizon          2005              4          2   \n",
      "3  31657   Physical      Horizon          2005              4          2   \n",
      "4  31658   Physical      Horizon          2005              4          2   \n",
      "5  31659   Physical      Horizon          2005              4          1   \n",
      "6  31660   Physical      Horizon          2005              4          2   \n",
      "7  31661   Physical      Horizon          2005              4          1   \n",
      "8  31662   Physical      Horizon          2005              4          1   \n",
      "9  31663   Physical      Horizon          2005              4          1   \n",
      "\n",
      "                                               Title  \\\n",
      "0                           Footprints at the window   \n",
      "1                    Seven brides for seven brothers   \n",
      "2  History [sound recording] / Loudon Wainwright ...   \n",
      "3                 Doing big business on the internet   \n",
      "4                       Lets learn how to dance shag   \n",
      "5                                      Cypress Point   \n",
      "6                    Better living through chemistry   \n",
      "7                                  Political suicide   \n",
      "8                             DHEA a practical guide   \n",
      "9  Những kẻ đính hôn / Alexanđrô Manzôni (Italia)...   \n",
      "\n",
      "                          Creator  \\\n",
      "0                             NaN   \n",
      "1                             NaN   \n",
      "2  Wainwright, Loudon, III, 1946-   \n",
      "3                             NaN   \n",
      "4                             NaN   \n",
      "5                             NaN   \n",
      "6                             NaN   \n",
      "7                             NaN   \n",
      "8                             NaN   \n",
      "9  Manzoni, Alessandro, 1785-1873   \n",
      "\n",
      "                                            Subjects  \\\n",
      "0            England Fiction, Space and time Fiction   \n",
      "1  Video recordings for the hearing impaired, Mus...   \n",
      "2                            Popular music 1991 2000   \n",
      "3  Internet, Internet advertising, Information ne...   \n",
      "4                       Shag Dance, Ballroom dancing   \n",
      "5  Love stories, Healers Fiction, Brain damage Fi...   \n",
      "6               House music, Popular music 1991 2000   \n",
      "7                                   Large type books   \n",
      "8  Dehydroepiandrosterone Popular works, Dehydroe...   \n",
      "9                                                xxx   \n",
      "\n",
      "                   Publisher PublicationYear MaterialType  \n",
      "0                        NaN             NaN         BOOK  \n",
      "1                        NaN             NaN    VIDEOCASS  \n",
      "2                  Charisma,          p1992.    SOUNDDISC  \n",
      "3                        NaN             NaN         BOOK  \n",
      "4                        NaN             NaN    VIDEOCASS  \n",
      "5                        NaN             NaN         BOOK  \n",
      "6                        NaN             NaN    SOUNDDISC  \n",
      "7                        NaN             NaN         BOOK  \n",
      "8                        NaN             NaN         BOOK  \n",
      "9  Nhà xuất bản Hội nhà văn,          [2003]         BOOK  \n"
     ]
    }
   ],
   "source": [
    "print(tf.head(10))"
   ]
  },
  {
   "cell_type": "code",
   "execution_count": 18,
   "metadata": {},
   "outputs": [],
   "source": [
    "columns = ['ID', 'MaterialType']\n",
    "df1 = pd.DataFrame(tf, columns=columns)"
   ]
  },
  {
   "cell_type": "code",
   "execution_count": 19,
   "metadata": {},
   "outputs": [
    {
     "name": "stdout",
     "output_type": "stream",
     "text": [
      "      ID MaterialType\n",
      "0  31654         BOOK\n",
      "1  31655    VIDEOCASS\n",
      "2  31656    SOUNDDISC\n",
      "3  31657         BOOK\n",
      "4  31658    VIDEOCASS\n",
      "5  31659         BOOK\n",
      "6  31660    SOUNDDISC\n",
      "7  31661         BOOK\n",
      "8  31662         BOOK\n",
      "9  31663         BOOK\n"
     ]
    }
   ],
   "source": [
    "print(df1.head(10))"
   ]
  },
  {
   "cell_type": "code",
   "execution_count": 20,
   "metadata": {},
   "outputs": [],
   "source": [
    "\n",
    "\n",
    "\n",
    "\n",
    "# DF TO CSV\n",
    "df1.to_csv('PythonExport.csv', sep=',')"
   ]
  },
  {
   "cell_type": "code",
   "execution_count": null,
   "metadata": {},
   "outputs": [],
   "source": []
  }
 ],
 "metadata": {
  "kernelspec": {
   "display_name": "Python 3",
   "language": "python",
   "name": "python3"
  },
  "language_info": {
   "codemirror_mode": {
    "name": "ipython",
    "version": 3
   },
   "file_extension": ".py",
   "mimetype": "text/x-python",
   "name": "python",
   "nbconvert_exporter": "python",
   "pygments_lexer": "ipython3",
   "version": "3.7.1"
  }
 },
 "nbformat": 4,
 "nbformat_minor": 2
}
